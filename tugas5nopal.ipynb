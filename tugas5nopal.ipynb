{
 "cells": [
  {
   "cell_type": "code",
   "execution_count": null,
   "id": "6d69b586",
   "metadata": {},
   "outputs": [],
   "source": [
    "print (\"#/################################################################################/\")\n",
    "print (\"/                                                                                 /\")\n",
    "print (\"/                              Naufal Zuhdi                                       /\")\n",
    "print (\"/                            20/462151/PA/20123                                   /\")\n",
    "print (\"/                        naufalzuhdi@mail.ugm.ac.id                               /\")\n",
    "print (\"/                                                                                 /\")\n",
    "print (\"#/################################################################################/\")"
   ]
  }
 ],
 "metadata": {
  "kernelspec": {
   "display_name": "Python 3",
   "language": "python",
   "name": "python3"
  },
  "language_info": {
   "codemirror_mode": {
    "name": "ipython",
    "version": 3
   },
   "file_extension": ".py",
   "mimetype": "text/x-python",
   "name": "python",
   "nbconvert_exporter": "python",
   "pygments_lexer": "ipython3",
   "version": "3.8.5"
  }
 },
 "nbformat": 4,
 "nbformat_minor": 5
}
